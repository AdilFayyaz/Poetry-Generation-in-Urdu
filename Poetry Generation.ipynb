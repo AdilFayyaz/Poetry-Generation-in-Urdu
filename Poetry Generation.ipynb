{
  "nbformat": 4,
  "nbformat_minor": 0,
  "metadata": {
    "colab": {
      "name": "i180613_NLP_A3.ipynb",
      "provenance": [],
      "collapsed_sections": []
    },
    "kernelspec": {
      "name": "python3",
      "display_name": "Python 3"
    },
    "language_info": {
      "name": "python"
    }
  },
  "cells": [
    {
      "cell_type": "markdown",
      "metadata": {
        "id": "9-X0HCn5w6BP"
      },
      "source": [
        "**Author:** M. Adil Fayyaz\n",
        "\n",
        "**Email:** adilfayyaz6@gmail.com\n",
      ]
    },
    {
      "cell_type": "markdown",
      "metadata": {
        "id": "gumFLjy7xch6"
      },
      "source": [
        "The next three(3) cells load the faiz, iqbal and ghalib poetry corpus into respective variables"
      ]
    },
    {
      "cell_type": "code",
      "metadata": {
        "colab": {
          "resources": {
            "http://localhost:8080/nbextensions/google.colab/files.js": {
              "data": "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",
              "ok": true,
              "headers": [
                [
                  "content-type",
                  "application/javascript"
                ]
              ],
              "status": 200,
              "status_text": ""
            }
          },
          "base_uri": "https://localhost:8080/",
          "height": 73
        },
        "id": "akxvuQfr2rTe",
        "outputId": "0ecdb1fa-8eb3-4add-aa86-df233bdea31a"
      },
      "source": [
        "from google.colab import files\n",
        "uploaded = files.upload()\n",
        "f = open('faiz.txt')\n",
        "faiz_poetry=\"\"\n",
        "line = f.readlines()\n",
        "for i in line:\n",
        "    faiz_poetry+=i"
      ],
      "execution_count": null,
      "outputs": [
        {
          "output_type": "display_data",
          "data": {
            "text/html": [
              "\n",
              "     <input type=\"file\" id=\"files-8a7c76c5-e481-44b7-86eb-37c33439fb1a\" name=\"files[]\" multiple disabled\n",
              "        style=\"border:none\" />\n",
              "     <output id=\"result-8a7c76c5-e481-44b7-86eb-37c33439fb1a\">\n",
              "      Upload widget is only available when the cell has been executed in the\n",
              "      current browser session. Please rerun this cell to enable.\n",
              "      </output>\n",
              "      <script src=\"/nbextensions/google.colab/files.js\"></script> "
            ],
            "text/plain": [
              "<IPython.core.display.HTML object>"
            ]
          },
          "metadata": {
            "tags": []
          }
        },
        {
          "output_type": "stream",
          "text": [
            "Saving faiz.txt to faiz.txt\n"
          ],
          "name": "stdout"
        }
      ]
    },
    {
      "cell_type": "code",
      "metadata": {
        "colab": {
          "resources": {
            "http://localhost:8080/nbextensions/google.colab/files.js": {
              "data": "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",
              "ok": true,
              "headers": [
                [
                  "content-type",
                  "application/javascript"
                ]
              ],
              "status": 200,
              "status_text": ""
            }
          },
          "base_uri": "https://localhost:8080/",
          "height": 73
        },
        "id": "AZJ9xB4O43fU",
        "outputId": "91d2ad54-c73c-4072-a34e-57af8113e8c1"
      },
      "source": [
        "uploaded = files.upload()\n",
        "f = open('ghalib.txt')\n",
        "ghalib_poetry=\"\"\n",
        "line = f.readlines()\n",
        "for i in line:\n",
        "    ghalib_poetry+=i"
      ],
      "execution_count": null,
      "outputs": [
        {
          "output_type": "display_data",
          "data": {
            "text/html": [
              "\n",
              "     <input type=\"file\" id=\"files-97a214b5-605c-4e10-b1e5-b714de42eae8\" name=\"files[]\" multiple disabled\n",
              "        style=\"border:none\" />\n",
              "     <output id=\"result-97a214b5-605c-4e10-b1e5-b714de42eae8\">\n",
              "      Upload widget is only available when the cell has been executed in the\n",
              "      current browser session. Please rerun this cell to enable.\n",
              "      </output>\n",
              "      <script src=\"/nbextensions/google.colab/files.js\"></script> "
            ],
            "text/plain": [
              "<IPython.core.display.HTML object>"
            ]
          },
          "metadata": {
            "tags": []
          }
        },
        {
          "output_type": "stream",
          "text": [
            "Saving ghalib.txt to ghalib.txt\n"
          ],
          "name": "stdout"
        }
      ]
    },
    {
      "cell_type": "code",
      "metadata": {
        "id": "DMmW-fy35LUV",
        "colab": {
          "resources": {
            "http://localhost:8080/nbextensions/google.colab/files.js": {
              "data": "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",
              "ok": true,
              "headers": [
                [
                  "content-type",
                  "application/javascript"
                ]
              ],
              "status": 200,
              "status_text": ""
            }
          },
          "base_uri": "https://localhost:8080/",
          "height": 73
        },
        "outputId": "6ce24eac-6983-4214-921f-92c73d5b3b7d"
      },
      "source": [
        "uploaded = files.upload()\n",
        "f = open('iqbal.txt')\n",
        "iqbal_poetry=\"\"\n",
        "line = f.readlines()\n",
        "for i in line:\n",
        "    iqbal_poetry+=i"
      ],
      "execution_count": null,
      "outputs": [
        {
          "output_type": "display_data",
          "data": {
            "text/html": [
              "\n",
              "     <input type=\"file\" id=\"files-65f4d17a-65a8-46b9-935e-916cecc92e58\" name=\"files[]\" multiple disabled\n",
              "        style=\"border:none\" />\n",
              "     <output id=\"result-65f4d17a-65a8-46b9-935e-916cecc92e58\">\n",
              "      Upload widget is only available when the cell has been executed in the\n",
              "      current browser session. Please rerun this cell to enable.\n",
              "      </output>\n",
              "      <script src=\"/nbextensions/google.colab/files.js\"></script> "
            ],
            "text/plain": [
              "<IPython.core.display.HTML object>"
            ]
          },
          "metadata": {
            "tags": []
          }
        },
        {
          "output_type": "stream",
          "text": [
            "Saving iqbal.txt to iqbal.txt\n"
          ],
          "name": "stdout"
        }
      ]
    },
    {
      "cell_type": "markdown",
      "metadata": {
        "id": "p2-SgQyMxnmA"
      },
      "source": [
        "Import libraries required for the program"
      ]
    },
    {
      "cell_type": "code",
      "metadata": {
        "id": "IGEBncjp6NTt"
      },
      "source": [
        "import spacy\n",
        "import random\n",
        "from nltk.probability import ConditionalFreqDist\n",
        "unlp = spacy.blank('ur')"
      ],
      "execution_count": null,
      "outputs": []
    },
    {
      "cell_type": "markdown",
      "metadata": {
        "id": "bUb9cSXCxwFQ"
      },
      "source": [
        "The code below first combines the poetry together to create a single corpus on which the machine will generate the ngram models. \n",
        "\n",
        "\n",
        "---\n",
        "\n",
        "First, the corpus is cleaned - punctuation marks and other symbols are removed from the corpus because they were causing unneccessary tuples when creating ngram language models. \n",
        "\n",
        "As per the Assignment instructions, a unigrams list, birgrams list and trigrams list is created here. It is followed by calculating the Conditional Frequency Distribution of each ngram"
      ]
    },
    {
      "cell_type": "code",
      "metadata": {
        "id": "lV4x5FsR62wO",
        "colab": {
          "base_uri": "https://localhost:8080/"
        },
        "outputId": "d6bf9745-c988-4120-aedc-d6e6dcd327c5"
      },
      "source": [
        "# Poetry corpus from all the poetry data \n",
        "poetry = faiz_poetry + iqbal_poetry + ghalib_poetry\n",
        "\n",
        "# Cleaning the corpus for symbols \n",
        "punctuation = punctuation = ['‘','؟','،','!',\"'\",' ؔ','َ','ِ','ُ','“','\"','”','%','٪']\n",
        "for x in punctuation:\n",
        "  poetry = poetry.replace(x,'')\n",
        "spacy_poetry = unlp(poetry)\n",
        "\n",
        "sentences = poetry.split('\\n')\n",
        "\n",
        "# Unigrams List\n",
        "unigrams = list()\n",
        "for i in range(len(sentences)):\n",
        "  words = sentences[i].split()\n",
        "  for j in range(len(words)):\n",
        "    w1 = words[j]\n",
        "    unigrams.append(w1)\n",
        "\n",
        "# Bigrams List\n",
        "bigrams = list()\n",
        "for i in range(len(sentences)):\n",
        "  words = sentences[i].split()\n",
        "  for j in range(len(words)-1):\n",
        "    w1 = words[j]\n",
        "    w2 = words[j+1]\n",
        "    bigrams.append(tuple((w1, w2)))\n",
        "\n",
        "# Trigrams List\n",
        "trigrams = list()\n",
        "for i in range(len(sentences)):\n",
        "  words = sentences[i].split()\n",
        "  for j in range(len(words)-2):\n",
        "    w1 = words[j]\n",
        "    w2 = words[j+1]\n",
        "    w3 = words[j+2]\n",
        "    trigrams.append(tuple((w1, w2, w3)))\n",
        "\n",
        "#Unigrams Conditional Frequency Distribution\n",
        "cdist_unigrams = ConditionalFreqDist()\n",
        "for w in unigrams:\n",
        "  condition = len(w)\n",
        "  cdist_unigrams[condition][w] += 1\n",
        "\n",
        "cdist_unigrams.conditions()\n",
        "cdist_unigrams[2]\n",
        "\n",
        "#Bigrams Conditional Frequency Distribution\n",
        "cdist_bigrams = ConditionalFreqDist()\n",
        "for w in bigrams:\n",
        "  condition = len(w)\n",
        "  cdist_bigrams[condition][w] += 1 \n",
        "\n",
        "cdist_bigrams.conditions()\n",
        "len(cdist_bigrams[2])\n",
        "\n",
        "\n",
        "# Trigrams Conditional Frequency Distribution\n",
        "cdist_trigrams = ConditionalFreqDist()\n",
        "for w in trigrams:\n",
        "  condition = len(w)\n",
        "  cdist_trigrams[condition][w] += 1\n",
        "cdist_trigrams.conditions()\n",
        "\n",
        "\n"
      ],
      "execution_count": null,
      "outputs": [
        {
          "output_type": "execute_result",
          "data": {
            "text/plain": [
              "[3]"
            ]
          },
          "metadata": {
            "tags": []
          },
          "execution_count": 5
        }
      ]
    },
    {
      "cell_type": "markdown",
      "metadata": {
        "id": "SLHiKA9KzDbS"
      },
      "source": [
        "**Get Rhyming Words Function**\n",
        "\n",
        "This function takes the last word used, a list of probable word options as the last word, and a list of last words used in the entire stanza(per verse).\n",
        "\n",
        "First, the program checks for words existing in the words option array. Returning a word which is already likely to appear as the next word and also rhymes with the last word of the first verse.  This solution will produce significantly better results. \n",
        "\n",
        "\n",
        "---\n",
        "\n",
        "\n",
        "Within this function there are two if conditions. The first one checks if the last character matches the other words last character. It also checks if its not the same word, and checks the last words list ( that has a list of last words used in the same stanza) to not repeat the last word again. Lastly it also checks if the last character is a vowel, if it is a vowel it is more likely to rhyme with another word that ends on the same vowel.\n",
        "\n",
        "The other if condition checks if the second last character matches and is a vowel, and if the last character is not vowel. Here, also the word should not repeat itself and must not have been used as a previous last word in the same stanza before. \n",
        "\n",
        "The conditions below iterate over a the entire corpus and finds a word from there that could be the rhyming word using the same concept that was used for the word options array above. It adds another check on words with length = 2. For these words to rhyme the last character must be the same\n",
        "\n",
        "The function return the next word to be used that rhymes"
      ]
    },
    {
      "cell_type": "code",
      "metadata": {
        "id": "zAVGs1qg5AH4"
      },
      "source": [
        "# Last word of the previous stanza + the sorted list of word options\n",
        "def getRhymingWords(last_word, word_options,last_words_list):\n",
        "  vowels = ['ہ', 'آ', 'ا', 'و', 'ی', 'ئ','ے','ؤ']\n",
        "  #same_sounds = ['ص', 'س', 'ط', 'ت', 'ک', 'ق']\n",
        "  \n",
        "  next_word = \"\"\n",
        "  # For every word in the list of options that are likely the next possible word\n",
        "  for w in word_options:\n",
        "    # If the last char is a vowel, select another word that ends with the same vowel\n",
        "    if w[len(w)-1] == last_word[len(last_word)-1] and w != last_word  and w not in last_words_list and w[len(w)-1] in vowels:\n",
        "      next_word = w\n",
        "      return next_word  \n",
        "    # Check if the second last char is a vowel and the last char is the same, then return the word, it likely rhymes \n",
        "    elif w[len(w)-2] == last_word[len(last_word)-2] and w[len(w)-2] in vowels and w != last_word and w[len(w)-1] == last_word[len(last_word)-1] and w not in last_words_list:\n",
        "      next_word = w\n",
        "      return next_word\n",
        "\n",
        "  # If no word found in the maximum frequency options (word options list)\n",
        "  # Iterate over the entire corpus \n",
        "  for i in range(len(sentences)): \n",
        "    words = sentences[i].split()\n",
        "    for w in words:\n",
        "      # If the last char is a vowel, select another word that ends with the same vowel\n",
        "      if w[len(w)-1] == last_word[len(last_word)-1] and w != last_word  and w not in last_words_list and w[len(w)-1] in vowels:\n",
        "        return w\n",
        "      # Check if the second last char is a vowel and the last char is the same, then return the word, it likely rhymes \n",
        "      elif w[len(w)-2] == last_word[len(last_word)-2] and w[len(w)-2] in vowels and w != last_word and w[len(w)-1] == last_word[len(last_word)-1] and w not in last_words_list:\n",
        "        return w\n",
        "      # If length of the last word is equal to 2 or the possible rhyming word = 2 and the last character matches another word, return the word \n",
        "      elif (len(last_word) == 2 or len(w) == 2) and last_word[len(last_word)-1] == w[len(w)-1] and w not in last_words_list:\n",
        "        return w\n",
        "\n",
        "  return last_word\n",
        "\n",
        "\n"
      ],
      "execution_count": null,
      "outputs": []
    },
    {
      "cell_type": "markdown",
      "metadata": {
        "id": "qCbxAaR-Ws25"
      },
      "source": [
        "**Unigram Model **\n",
        "\n",
        "The following code in the next cell was only used for testing purposes, it may be ignored for evaluation purposes. However, it uses the unigram model to generate the poetry"
      ]
    },
    {
      "cell_type": "code",
      "metadata": {
        "id": "zY0aysolltw4",
        "colab": {
          "base_uri": "https://localhost:8080/"
        },
        "outputId": "8ad14d0e-5149-49fe-914b-529af716c7ab"
      },
      "source": [
        "#Unigram Model \n",
        "unigram_learned_poetry = \"\"\n",
        "\n",
        "for stanza in range(0,3):\n",
        "  last_word = \"\"\n",
        "  last_words_list = []\n",
        "  for verse in range(0,4):\n",
        "\n",
        "    while True:\n",
        "      randsent_unigram = random.randint(0,len(sentences)-1)\n",
        "      words_list_unigram = sentences[randsent_unigram].split()\n",
        "      if len(words_list_unigram)>=7 and len(words_list_unigram)<=10:\n",
        "          break;\n",
        "\n",
        "    #Get the starting word from \n",
        "    first_word_unigram = words_list_unigram[0]\n",
        "    unigram_learned_poetry+=\" \"\n",
        "    unigram_learned_poetry+=first_word_unigram\n",
        "\n",
        "    next_word_unigram = first_word_unigram \n",
        "    \n",
        "\n",
        "    rnd_range = random.randint(7,10)\n",
        "    for i in range(rnd_range):\n",
        "\n",
        "      next_word_list = []\n",
        "      max_unigram_freq = 0\n",
        "      prev_word = next_word_unigram\n",
        "\n",
        "     # Select the next word with the highest probability in the unigram model\n",
        "      distribution = {}\n",
        "      for word in cdist_unigrams[2]:\n",
        "        if next_word_unigram in word:\n",
        "          distribution[word] = cdist_unigrams[1].freq(word)\n",
        "\n",
        "      sorted_next_words = sorted(distribution.items(), key=lambda x: x[1], reverse=True)\n",
        "      for wtuple,freq in sorted_next_words:\n",
        "        next_word_list.append(wtuple[1])\n",
        "\n",
        "\n",
        "\n",
        "      for word in cdist_unigrams[2]:\n",
        "        if next_word_unigram in word:  \n",
        "          if cdist_unigrams[2].freq(word) >= max_unigram_freq:\n",
        "            next_word = word\n",
        "            max_unigram_freq = cdist_unigrams[2].freq(word) \n",
        "\n",
        "      if prev_word == next_word_unigram:\n",
        "        while True:\n",
        "          randSentNew = random.randint(0,len(sentences))\n",
        "          words_list_new = sentences[randSentNew].split()\n",
        "          if len(words_list_new)>=7 and len(words_list_new)<=10:\n",
        "            next_word_unigram = words_list_new[random.randint(0,len(words_list_new)-1)]\n",
        "            \n",
        "            break;\n",
        "      \n",
        "      unigram_learned_poetry+= \" \"\n",
        "      unigram_learned_poetry+= next_word_unigram\n",
        "\n",
        "    unigram_learned_poetry+='\\n'\n",
        "  unigram_learned_poetry+='\\n'\n",
        "      \n",
        "print(unigram_learned_poetry)\n",
        "\n"
      ],
      "execution_count": null,
      "outputs": [
        {
          "output_type": "stream",
          "text": [
            " کہ شوق دم دقیق ماو نے ہے مرے\n",
            " کہتے یار کوئی کافر کا کا کا پابندی کی\n",
            " سر اسی کشتۂ کی دیوار گداز شوق در و\n",
            " سیر خوں لالہ آہنگ نمک راہ خورسند کو کام تم\n",
            "\n",
            " نگین اہل کے ضبط جلوۂ ہم موج گیا میں چمن\n",
            " خلوت کہتے ہے کے ھےکس کہ اس جہان دار\n",
            " پندار مرے پر درد شمشیر بندھا میں بستیوں\n",
            " مقام آئنہ تاب میں میان گھائل کس مجھے بلائے دیگر\n",
            "\n",
            " شعر حق تیرا پیوں ہوا کے نے اہل تکمیل جل\n",
            " کہ میں کی ہنر میرے نہ ہیں یہ کا آخر\n",
            " برہنہ رخ ہو و مروت نہ ہیں کو دی ورنہ\n",
            " کھتے ہنسائیاں دل سوتے اور تک ہنوز دل\n",
            "\n",
            "\n"
          ],
          "name": "stdout"
        }
      ]
    },
    {
      "cell_type": "markdown",
      "metadata": {
        "id": "kPq6nWw52dEV"
      },
      "source": [
        "**generateVerseForward Function**\n",
        "\n",
        "This function genereates a complete verse for a Forward Bigram Model.\n",
        "The parameters are:\n",
        "\n",
        " start and end -the length of the verse. \n",
        "\n",
        "next_word - the next word from the previous iteration\n",
        "\n",
        "learnt_poetry -  the string object that is storing the poetry up till now\n",
        "\n",
        "last_word - the last word used in the verse\n",
        "\n",
        "last_words_list - list of words that are the ending words in a stanza per verse\n",
        "\n",
        "verse - the count of the curent verse\n",
        "\n",
        "isRhyme - Boolean checks if rhyming is to be done or not\n",
        "\n",
        "\n",
        "Concept: \n",
        "\n",
        "The program works by making a dictionary and checking for the next word in the frequency distribution. If the word exists, its frequency is stored against the tuple found. This dictionary is then sorted based on the frequency. Then the next word i.e the tuple posn at [1] is stored in the next_word_list list \n",
        "\n",
        "The program checks if the next possible words list contains more than or equal to 3 words. If so,  it selects one from the top 3 randomly to make the next word. Else, it just selects the next word (the highest probability one) \n",
        "\n",
        "However, in some cases the word chosen is not followed by any word in the bigram. That is, the word originally was the last word of a verse and had no word following it, and had a single occurence in the corpus. In this case, the next word chosen is found at random.\n",
        "\n",
        "The function lastly checks if rhyming is to be done, and it checks if the subsequent verse number, other than the initial - 0 , are being iterated then it calls the getRhymingWords Function and returns a rhyming word as the next word. The last word and last_word_list are also updated. \n",
        "\n",
        "Finally, the function appends the next word in the learnt_poetry and returns "
      ]
    },
    {
      "cell_type": "code",
      "metadata": {
        "id": "Y9frDd2i2uLp"
      },
      "source": [
        "def generateVerseForward(start,end,next_word,learnt_poetry,last_word,last_words_list,verse,isRhyme):\n",
        "  rand_range = random.randint(start,end)\n",
        "  for i in range(rand_range):\n",
        "\n",
        "    next_word_list = []\n",
        "    prev_word = next_word\n",
        "    \n",
        "    #Select the next word with the highest probability in the bigram model\n",
        "    distribution = {}\n",
        "    for word_tuple in cdist_bigrams[2]:\n",
        "      if next_word == word_tuple[0]:\n",
        "        distribution[word_tuple] = cdist_bigrams[2].freq(word_tuple)\n",
        "    # Sort the dictionary \n",
        "    sorted_next_words = sorted(distribution.items(), key=lambda x: x[1], reverse=True)\n",
        "    for wtuple,freq in sorted_next_words:\n",
        "      next_word_list.append(wtuple[1])\n",
        "    \n",
        "    # If next possible words are >= 3 select one at random\n",
        "    if len(next_word_list) >= 3:\n",
        "      rndm_word_index = random.randint(0,2)\n",
        "      next_word = next_word_list[rndm_word_index]\n",
        "    # Else select the next word (List returned with one possibility)\n",
        "    elif next_word_list:\n",
        "      next_word = next_word_list[0]\n",
        "    # Condition - Last word selected and subsequent word will be a new random word\n",
        "    if prev_word == next_word:\n",
        "      next_word = \"\"\n",
        "      while not next_word:\n",
        "        randSentNew = random.randint(0,len(sentences))\n",
        "        words_list_new = sentences[randSentNew].split()\n",
        "        if len(words_list_new)>=7 and len(words_list_new)<=10:\n",
        "          next_word = words_list_new[random.randint(0,len(words_list_new)-1)]\n",
        "    \n",
        "    # If the poetry is to be rhymed\n",
        "    if isRhyme:\n",
        "      # If not the first verse \n",
        "      rhyming_word = \"\"\n",
        "      if verse != 0:\n",
        "        # If the last word is being chosen\n",
        "        if i == rand_range -1 :\n",
        "          # If next word list was emtpy update it with words_new_list from above\n",
        "          if not next_word_list:\n",
        "            next_word_list = words_list_new\n",
        "          # Last word of the previous verse exists  \n",
        "          if last_word:\n",
        "            rhyming_word = getRhymingWords(last_word, next_word_list,last_words_list)\n",
        "            next_word = rhyming_word        \n",
        "          \n",
        "          # Update last word, and last word list\n",
        "          last_word = next_word\n",
        "          last_words_list.append(last_word)\n",
        "\n",
        "      # If the first verse\n",
        "      else:\n",
        "        # If the last word is being chosen\n",
        "        if i == rand_range -1 :  \n",
        "          # Update last word, and last word list     \n",
        "          last_word = next_word\n",
        "          last_words_list.append(last_word)  \n",
        "    learnt_poetry+= \" \"\n",
        "    learnt_poetry+= next_word          \n",
        "  return learnt_poetry, last_word, last_words_list        \n"
      ],
      "execution_count": null,
      "outputs": []
    },
    {
      "cell_type": "markdown",
      "metadata": {
        "id": "iOGoayc05usx"
      },
      "source": [
        "**Bigram Poetry Generation**\n",
        "\n",
        "This function creates the Bigram poetry. It runs 3 loops for the stanzas, and 4 loops for the verses. It finds the first word randomly and then computes the rest of the verses using the generateVerseForward function defined above"
      ]
    },
    {
      "cell_type": "code",
      "metadata": {
        "id": "cpV3YpAloxlc"
      },
      "source": [
        "# Bigram Model Calculations\n",
        "def Bigram():\n",
        "  learnt_poetry = \"\"\n",
        "  # Stanza Count \n",
        "  for scount in range(0,3):\n",
        "    last_word = \"\"\n",
        "    last_words_list = [] \n",
        "    for verse in range(0,4):\n",
        "      \n",
        "      #Get the words from a random sentence\n",
        "      while True:\n",
        "        randSent = random.randint(0,len(sentences)-1)\n",
        "        words_list = sentences[randSent].split()\n",
        "        if len(words_list)>=7 and len(words_list)<=10:\n",
        "          break;\n",
        "\n",
        "      #Get the starting word from the random words selected\n",
        "      first_word = words_list[0]\n",
        "      learnt_poetry+=\" \"\n",
        "      learnt_poetry+=first_word \n",
        "\n",
        "      next_word = first_word\n",
        "      # Generate the rest of the verse\n",
        "      learnt_poetry, last_word, last_words_list = generateVerseForward(7,10, next_word, learnt_poetry,last_word,last_words_list,verse,1)\n",
        "\n",
        "      learnt_poetry+='\\n'\n",
        "    learnt_poetry+='\\n'\n",
        "\n",
        "  return learnt_poetry\n",
        "\n",
        "\n"
      ],
      "execution_count": null,
      "outputs": []
    },
    {
      "cell_type": "markdown",
      "metadata": {
        "id": "jj_U2ds07HzP"
      },
      "source": [
        "**generateVerseBackward Function**\n",
        "\n",
        "This function works in exactly the same way as the generateVerseForward function however, this had to be computed separetly, because the same bigram model was used and instead of selecting the word on the tuple[1] posn the word on the tuple[0] posn was selected so that the behaviour could be reversed. "
      ]
    },
    {
      "cell_type": "code",
      "metadata": {
        "id": "arSsxs3RAbDC"
      },
      "source": [
        "def generateVerseBackward(start,end,next_word,learnt_poetry,last_word,last_words_list,verse,isRhyme):\n",
        "    rand_range = random.randint(start,end)\n",
        "    for i in range(rand_range):\n",
        "      prev_word_list = []\n",
        "\n",
        "      # Dictionary of word tuples and their frequencies  \n",
        "      distribution = {}\n",
        "      for word_tuple in cdist_bigrams[2]:\n",
        "        if next_word == word_tuple[1]:\n",
        "          distribution[word_tuple] = cdist_bigrams[2].freq(word_tuple)\n",
        "      # Sort the Dictionary \n",
        "      sorted_next_words = sorted(distribution.items(), key=lambda x: x[1], reverse=True)\n",
        "      for wtuple,freq in sorted_next_words:\n",
        "        prev_word_list.append(wtuple[0])\n",
        "\n",
        "      prev_word = next_word\n",
        "      # If next possible words are >= 3 select one at random\n",
        "      if len(prev_word_list) >= 3:\n",
        "        rndm_word_index = random.randint(0,2)\n",
        "        next_word = prev_word_list[rndm_word_index]\n",
        "      # Else select the next word (List returned with one possibility)\n",
        "      elif prev_word_list:\n",
        "        next_word = prev_word_list[0]\n",
        "      # Condition - Last word selected and subsequent word will be a new random word\n",
        "      if prev_word == next_word:\n",
        "        next_word = \"\"\n",
        "        while not next_word:\n",
        "          randSentNew = random.randint(0,len(sentences))\n",
        "          words_list_new = sentences[randSentNew].split()\n",
        "          if len(words_list_new)>=7 and len(words_list_new)<=10:\n",
        "            next_word = words_list_new[random.randint(0,len(words_list_new)-1)]\n",
        "\n",
        "      # If the poetry is to be rhymed\n",
        "      if isRhyme:      \n",
        "        # If not the first verse \n",
        "        rhyming_word = \"\"\n",
        "        if verse != 0:\n",
        "          # If the first word is being chosen\n",
        "          if i == 0:\n",
        "            # If next word list was emtpy update it with words_new_list from above\n",
        "            if not prev_word_list:\n",
        "              prev_word_list = words_list_new \n",
        "              # Last word of the previous verse exists\n",
        "            if last_word:\n",
        "              rhyming_word = getRhymingWords(last_word, prev_word_list,last_words_list)\n",
        "              next_word = rhyming_word\n",
        "            # Update last word, and last word list\n",
        "            last_word = next_word\n",
        "            last_words_list.append(last_word)\n",
        "        # If the first verse\n",
        "        else:\n",
        "          # if the first word is being chosen\n",
        "          if i == 0 :\n",
        "            # Update last word, and last word list\n",
        "            last_word = next_word\n",
        "            last_words_list.append(last_word)\n",
        "            \n",
        "     \n",
        "      learnt_poetry+= \" \"\n",
        "      learnt_poetry+= next_word\n",
        "    return learnt_poetry, last_word, last_words_list"
      ],
      "execution_count": null,
      "outputs": []
    },
    {
      "cell_type": "markdown",
      "metadata": {
        "id": "dj4O91qhAg3M"
      },
      "source": [
        "**Backward Bigram Function**\n",
        "\n",
        "This function creates the Backward Bigram poetry. It runs 3 loops for the stanzas, and 4 loops for the verses. It finds the last word(first word in the reversed string) randomly and then computes the rest of the verses using the generateVerseBackward function defined above. After computation it reverses the string computed to print the actual poetry generated"
      ]
    },
    {
      "cell_type": "code",
      "metadata": {
        "id": "Jb81RMVi1QKg"
      },
      "source": [
        "##### Backward Bigram Model #####\n",
        "def BackwardBigram():\n",
        "  learnt_poetry = \"\"\n",
        "  for scount in range(0,3):\n",
        "    last_word = \"\"\n",
        "    last_words_list = []\n",
        "    for verse in range(0,4):\n",
        "\n",
        "      # Get the List of Sentences and Words\n",
        "      while True:\n",
        "        randSent = random.randint(0,len(sentences)-1)\n",
        "        words_list = sentences[randSent].split()\n",
        "        if len(words_list)>=7 and len(words_list)<=10:\n",
        "          break\n",
        "\n",
        "      # Get the Last Word Randomly   \n",
        "      first_word = words_list[len(words_list)-1]\n",
        "\n",
        "      next_word = first_word\n",
        "      learnt_poetry, last_word, last_words_list = generateVerseBackward(7,10,next_word,learnt_poetry,last_word,last_words_list,verse,1)\n",
        "      \n",
        "      learnt_poetry+='\\n'\n",
        "    learnt_poetry+='\\n'\n",
        "\n",
        "\n",
        "  learnt_poetry2=\"\"\n",
        "  poetry_sent = learnt_poetry.split('\\n')\n",
        "  for s in range(len(poetry_sent)):\n",
        "    words = poetry_sent[s].split(' ')\n",
        "    learnt_poetry2 += ' '.join(reversed(words))\n",
        "    learnt_poetry2 += '\\n'\n",
        "  \n",
        "  return learnt_poetry2\n",
        "\n"
      ],
      "execution_count": null,
      "outputs": []
    },
    {
      "cell_type": "markdown",
      "metadata": {
        "id": "a7ovyAUcBJQR"
      },
      "source": [
        "**Bidirectional Bigram Function**\n",
        "\n",
        "This function creates the Bidrirectional Bigram poetry. It runs 3 loops for the stanzas, and 4 loops for the verses. It uses the existing functionality of the forward and backward bigram functions created above. The logic used behind this is that, a middle word is chosen and the forward bigram chooses the words that should follow the middle word. And the backward bigram chooses the words that should exist before the middle word. In this way, the bidirectional bigram poetry is then computed by concatenating both the result."
      ]
    },
    {
      "cell_type": "code",
      "metadata": {
        "id": "-8MG3Gm-x0bC"
      },
      "source": [
        "#### Bidirectional Bigram #####\n",
        "def BidirectionalBigram():\n",
        "  learnt_poetry = \"\"\n",
        "  for scount in range(0,3):\n",
        "    last_word = \"\"\n",
        "    last_words_list = []\n",
        "    for verse in range(0,4):\n",
        "      \n",
        "      #Get the words from a random sentence\n",
        "      while True:\n",
        "        randSent = random.randint(0,len(sentences)-1)\n",
        "        words_list = sentences[randSent].split()\n",
        "        if len(words_list)>=7 and len(words_list)<=10 :\n",
        "          break;\n",
        "\n",
        "      #Get the middle word from the words list\n",
        "      val = random.randint(3,len(words_list)-1)\n",
        "      middle_word = words_list[val]\n",
        "      next_word = middle_word\n",
        "\n",
        "      # Find the words that should exist before the middle word using the backward model function\n",
        "      learnt_poetry2 = \"\"\n",
        "      learnt_poetry2 += next_word\n",
        "      learnt_poetry2, last_word, last_words_list = generateVerseBackward(3,5, next_word, learnt_poetry2,last_word,last_words_list,verse,0)\n",
        "      learnt_poetry3 = \"\"\n",
        "      # Reverse the string received to be in the correct order\n",
        "      poetry_sent = learnt_poetry2.split('\\n')\n",
        "      for s in range(len(poetry_sent)):\n",
        "        words = poetry_sent[s].split(' ')\n",
        "        learnt_poetry3 += ' '.join(reversed(words))\n",
        "      \n",
        "      # Find the words that should exist after the middle word using the forward model function\n",
        "      learnt_poetry4 = \"\"\n",
        "      learnt_poetry4 += learnt_poetry3\n",
        "      learnt_poetry4, last_word, last_words_list = generateVerseForward(3,5, next_word, learnt_poetry4,last_word,last_words_list,verse,1)\n",
        "\n",
        "      learnt_poetry += learnt_poetry4 \n",
        "      \n",
        "      learnt_poetry+='\\n'\n",
        "    learnt_poetry+='\\n'\n",
        "\n",
        "\n",
        "  \n",
        "  return learnt_poetry"
      ],
      "execution_count": null,
      "outputs": []
    },
    {
      "cell_type": "markdown",
      "metadata": {
        "id": "nB86eV5BCNVR"
      },
      "source": [
        "**Trigram Model Function**\n",
        "\n",
        "The trigram model function uses almost the same functionality as the bigram model. Except here the first two words are selected and the program find the probability of the third word that should be added as the next word given the previous two words. In this way, the subsequent words are generated and are concatenated to generate the poetry"
      ]
    },
    {
      "cell_type": "code",
      "metadata": {
        "id": "WuH2rLVI1u-0"
      },
      "source": [
        "#### Trigram Model ####\n",
        "def Trigram():\n",
        "  learnt_poetry = \"\"\n",
        "  for scount in range(0,3):\n",
        "    for verse in range(0,4):\n",
        "      \n",
        "      # Get the words from a random sentence\n",
        "      while True:\n",
        "        randSent = int(random.randint(0,len(sentences)))\n",
        "        words_list = sentences[randSent].split()\n",
        "        if len(words_list)>=7 and len(words_list)<=10:\n",
        "          break;\n",
        "\n",
        "      # Get the starting word from words list\n",
        "      first_word = words_list[0]\n",
        "      learnt_poetry += \" \"\n",
        "      learnt_poetry += first_word\n",
        "      # Get the second word from the words list\n",
        "      second_word = words_list[1]\n",
        "      learnt_poetry += \" \"\n",
        "      learnt_poetry += second_word\n",
        "\n",
        "      next_word = first_word\n",
        "      second_next_word = second_word\n",
        "\n",
        "      #Select the remaining words size \n",
        "      rand_range = int(random.randint(7 ,8))\n",
        "      for i in range(rand_range):\n",
        "\n",
        "        next_word_list = []\n",
        "        next_second_word_list = []\n",
        "\n",
        "        # Select the next word with the highest probability in the trigram model\n",
        "        # Create a dictionary of the word tuples and their frequencies \n",
        "        prev_word = second_next_word\n",
        "        distribution = {} \n",
        "        for word_tuple in cdist_trigrams[3]:\n",
        "          if next_word == word_tuple[0] and second_next_word == word_tuple[1]:\n",
        "            distribution[word_tuple] = cdist_trigrams[3].freq(word_tuple)\n",
        "        # Sort the dictionary on the basis of the frequency \n",
        "        sorted_next_words = sorted(distribution.items(), key=lambda x: x[1],reverse = True)\n",
        "\n",
        "        # Add the words to the next and second word lists respectively \n",
        "        for wtuple,freq in sorted_next_words:\n",
        "          if len(wtuple) == 3:\n",
        "            if wtuple[1] not in next_word_list:\n",
        "              next_word_list.append(wtuple[1])\n",
        "            if wtuple[2] not in next_second_word_list:\n",
        "              next_second_word_list.append(wtuple[2])\n",
        "\n",
        "      # If the list contains more than 4 words, then select the next word at random\n",
        "        if len(next_word_list) >= 4 and len(next_second_word_list) >= 4:\n",
        "          rndm_word_index = random.randint(0,3)\n",
        "          next_word = next_word_list[rndm_word_index]\n",
        "          second_next_word = next_second_word_list[rndm_word_index]\n",
        "      # Else select the word at the highest frequency \n",
        "        elif next_word_list and next_second_word_list:\n",
        "          next_word = next_word_list[0]\n",
        "          second_next_word = next_second_word_list[0]\n",
        "      # If no possibility exists then randomly choose the next word (that is no words exist in the original corpus that follow the current word)\n",
        "        else:\n",
        "          while True:\n",
        "            randSentNew = random.randint(0,len(sentences))\n",
        "            words_list_new = sentences[randSentNew].split()\n",
        "            if len(words_list_new)>=7 and len(words_list_new)<=8:\n",
        "              value = random.randint(1,len(words_list_new)-2)\n",
        "              next_word = words_list_new[value]\n",
        "              second_next_word = words_list_new[value+1]\n",
        "              break;\n",
        "\n",
        "        # If not the first verse \n",
        "        rhyming_word = \"\"\n",
        "        # If not the first verse\n",
        "        if verse != 0:\n",
        "          # If the last word is being chosen\n",
        "          if i == rand_range -1 :\n",
        "            # if the next second word list empty\n",
        "            if not next_second_word_list:\n",
        "              next_second_word_list = words_list_new\n",
        "            # If the previous verse had a last word \n",
        "            if last_word:\n",
        "              # Call the get Rhyming words function\n",
        "              rhyming_word = getRhymingWords(last_word, next_second_word_list,last_words_list)\n",
        "              next_word = rhyming_word\n",
        "            # Update the last and second next words\n",
        "            second_next_word = next_word\n",
        "            last_word = next_word\n",
        "            last_words_list.append(last_word)\n",
        "        # If the first verse\n",
        "        else:\n",
        "          # If the last word is being chosen\n",
        "          if i == rand_range -1 :\n",
        "            # Update the last word and last words list\n",
        "            last_word = second_next_word\n",
        "            last_words_list.append(last_word)\n",
        "        \n",
        "        learnt_poetry+= \" \"\n",
        "        learnt_poetry+= second_next_word\n",
        "        \n",
        "\n",
        "      learnt_poetry+='\\n'\n",
        "    learnt_poetry+='\\n'\n",
        "\n",
        "\n",
        "  return learnt_poetry"
      ],
      "execution_count": null,
      "outputs": []
    },
    {
      "cell_type": "markdown",
      "metadata": {
        "id": "zdhiEE4Kb6nx"
      },
      "source": [
        "**Comparison Between the Models**\n",
        "\n",
        "\n",
        "---\n",
        "\n",
        "\n",
        "**Bigram Model vs Backward Bigram Model:**\n",
        "\n",
        "After several iterations over both the models, it was seen that both of them are roughly working in the same accuracy. However, if one had to be choosen then the backward bigram model performed slightly better than the forward bigram model, which might be because the backward context was more meaningful than the forward context. \n",
        "\n",
        "**Bidirectional Model vs Bigram vs Backward Bigram Model:**\n",
        "\n",
        "After several iterations over all these three models, it was seen that the bidirectional model produces a slightly better version of the verses compared to the other two implementations. This may be because the forward and backward context was both being taken into consideration when generating the verse and that is why a more meaningful output was produced. \n",
        "\n",
        "**Trigram vs All Bigram Model Implementations:**\n",
        "\n",
        "The trigram model produces the most meaningful verses as compared to any of the bigram modeling techniques. This probably is because the model checks the first two words and then generates the third word. Whereas in a bigram a single word is checked and the subsequent word is produced. It is more likely to produce a meaningful sentence when checking two words compared to one, and the model provides evidence of this fact. "
      ]
    },
    {
      "cell_type": "code",
      "metadata": {
        "colab": {
          "base_uri": "https://localhost:8080/"
        },
        "id": "lm9LqcjOlgzl",
        "outputId": "8c287747-aefc-4f18-9a20-2cc2e50d0102"
      },
      "source": [
        "##### Call the n-grams methods #####\n",
        "bigram_poetry = Bigram()\n",
        "rev_bigram_poetry = BackwardBigram()\n",
        "bi_bigram_poetry = BidirectionalBigram()\n",
        "trigram_poetry = Trigram()\n",
        "\n",
        "print(\"Bigram produced: \")\n",
        "print(bigram_poetry)\n",
        "print(\"Backward Bigram produced: \")\n",
        "print(rev_bigram_poetry)\n",
        "print(\"Bidirectional Bigram produced: \")\n",
        "print(bi_bigram_poetry)\n",
        "print(\"Trigram produced: \")\n",
        "print(trigram_poetry)\n",
        "\n",
        "\n"
      ],
      "execution_count": null,
      "outputs": [
        {
          "output_type": "stream",
          "text": [
            "Bigram produced: \n",
            " کون دیکھ کہ یوں بے دوا پائی داد نہ\n",
            " میری نعش کو میں بھی ہے یہ کیا ہے یہ وہ\n",
            " شاید پھر لگا ہوا پایا ہے کہ میں بھی نہیں کہ\n",
            " ہیں ہم سے میں ہے یہ وہ بھی یہ\n",
            "\n",
            " سفینۂ برگ غالبؔ کو دیکھتے ہیں کہ میں نے چاہا تھا\n",
            " ہلتے ہیں کہ یوں تو نے نہ ہو گیا\n",
            " جاں ستاں ناوک ناز کا نہ ہو یا\n",
            " سراپا وقف سوز و نظر نہیں ہے کہ یوں ہوتا\n",
            "\n",
            " چاک گریباں کا یہ کیا دماغی ہے تو کیا\n",
            " کوئی پوچھے ترے وعدہ نہ ہوتا تو کیا ہے یہ جانتا\n",
            " خاک کہ ’’ ہم کو میں ہے تو کیا ہوتا\n",
            " تو نے کیا ہے کہ یوں بے قرار تھا مرنا\n",
            "\n",
            "\n",
            "Backward Bigram produced: \n",
            "دل میں ہوں میں بھی نہیں ہے نکتہ ہاے \n",
            "نہیں ہوں میں ہے جو مدعا تیری ضرب تجھ سے \n",
            "ارم دیکھتے ہیں کہ پھر کیا ہے \n",
            "دل کی لے کے ہر رنگ بھرے \n",
            "\n",
            "و دل میں نہیں مجھ کو میں ہوں میں \n",
            "تیرا ہی کیوں ہو تو کیا کہیں \n",
            "کیوں نہ تھے ہم سے دل و دل پہ آئیں \n",
            "خاک نہیں تجھ سے ہم سے ہم کو بھی نہیں \n",
            "\n",
            "’’ یوں موج بوئے گل و دل و گل و \n",
            "مجھ پر اتنا جانتے تھے ہم پہ یارو \n",
            "پیشہ طلبگار مرد تھا کہ دل میں آجائیو \n",
            "اس کو خدا رکھتے تھے ہم کو \n",
            "\n",
            "\n",
            "\n",
            "Bidirectional Bigram produced: \n",
            "خدا آج ان کی خوبصورت نظم میں نے چاہا تھا میں\n",
            "میں لے کے امتحاں اور بھی نہیں ہوں نہیں\n",
            "مر جائیں گے کیا ہے یہ کیا کریں\n",
            "ہے کہ دل کرے ہے یہ فضائیں\n",
            "\n",
            "کہ دل میں وہ خاک نہیں آتی رہی ہے کہ\n",
            "ہی کیوں نہ جائیو آئی امتحاں کی دوا نہ\n",
            "پیشہ طلبگار مرد تھا دفینہ گہر کی طرح رشتہ\n",
            "اس کو اپنا بنا لے کے لیے ہم پہ\n",
            "\n",
            "میں ہوں میں نے بارہا ڈھونڈا تم کو دیکھتے ہیں\n",
            "میں نہیں تھا وہم گرمئی رشک وفا سے دل کی نظریں\n",
            "خاک نہیں تھا کہ ہر ایک ہیں تدبیریں\n",
            "تو کہیں اس کی خوبصورت کلام میں بھی ہے میں\n",
            "\n",
            "\n",
            "Trigram produced: \n",
            " دل افسردہ گویا حجرہ ہے یوسف کے زنداں کا میں\n",
            " ہم نے چاہا تھا کہ اندوہ وفا سے چھوٹوں نظریں\n",
            " دل کو سنبھالو کہ سر شام وہ کیسے ہمیں\n",
            " مجھ سا کافر کہ جو تھا جل گیا ہوگا ہیں\n",
            "\n",
            " صاحب ساز کو لازم ہے کہ یہ کام بھی\n",
            " ایک بیداد گر رنج فزا اور سہی امتحاں کبھی\n",
            " جادۂ راہ فنا غالبؔ مرگ باشرف مرگ حیات بے سہی\n",
            " کچھ اور ہے شاہيں کا جہاں اور بھی گزری\n",
            "\n",
            " صحرا کو بڑا عالم ھے اپنی تنہائی پر غالب بھی\n",
            " ہاں یہ اور بات ہے اعجاز مسیحا مرے تری\n",
            " جہاں تلوار کو دیکھا کرے کوئی بے دلی نومیدی\n",
            " کاشانہ بس کی تنگ ہے غافل ہوا نہ ہوئی\n",
            "\n",
            "\n"
          ],
          "name": "stdout"
        }
      ]
    }
  ]
}